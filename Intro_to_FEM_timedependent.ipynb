{
 "cells": [
  {
   "cell_type": "code",
   "execution_count": 3,
   "metadata": {
    "collapsed": true,
    "nbpresent": {
     "id": "871289e3-3226-450a-8908-63af570d9d05"
    },
    "slideshow": {
     "slide_type": "skip"
    }
   },
   "outputs": [],
   "source": [
    "%matplotlib inline\n",
    "\n",
    "import numpy as np\n",
    "import matplotlib.pyplot as plt"
   ]
  },
  {
   "cell_type": "markdown",
   "metadata": {},
   "source": [
    "Time-dependent Poisson equation\n",
    "-------------------------------------\n",
    "Let consider again the 1D stick held at a fixed temperature $u=1$ at one end, and $u=0$ at the other. We are interested in observing the variation of temperature both in time and in space for $t=(0,T],$ where $T$ . Identifying the rod with the interval $[0, 1]$, we let $u(x, t)$ denote the temperature of the rod at the point $x$ and time $t$. In this case the temperature $u$ depends both on time and space. The equation that models this phenomenon can be written as  $$\\frac{\\partial u}{\\partial t} - \\frac{\\partial^2u} {\\partial x^2} = 0$$ with the boundary conditions $u=1$ at $x=0$, and $u=0$ at $x=1$. As we have done for the stationary Poisson equation, we will discretize the equation using the Finite Element Method in space. In addition to the boundary conditions we should provide an initial condition and define a discretization method for the time derivative. "
   ]
  },
  {
   "cell_type": "markdown",
   "metadata": {
    "nbpresent": {
     "id": "856c3340-ca18-4367-b881-4143751dba38"
    },
    "slideshow": {
     "slide_type": "slide"
    }
   },
   "source": [
    " <img src=\"heat.jpg\" alt=\"Heated rod\" style=\"width: 300px;\"/>"
   ]
  },
  {
   "cell_type": "markdown",
   "metadata": {},
   "source": [
    "Time discretization\n",
    "----------------\n",
    "We consider $M$ points uniformily in the time interval $(0,T].$ The first point in time is $t^0 = 0$ and the last point in time is $t^M = T.$ The distance between the points in time is $\\Delta t = \\frac{T}{M-1}.$ The time derivative can be discretized using the implicit Euler method: $$\\frac{\\partial u(t^m)}{\\partial t} \\approx \\frac{u^m - u^{m-1}}{\\Delta t},$$ where $u^m = u(t^m).$ From this scheme it is clear that we need an initial condition for $t = t^0.$ Given an initial condition such that $u(t^0) = u_0,$ the semi-discretization of the equation reads as: $$u^m - \\Delta t \\Delta u^m = u^{m-1},$$ for $m = 1, \\dots, M.$ \n"
   ]
  },
  {
   "cell_type": "markdown",
   "metadata": {
    "nbpresent": {
     "id": "e9620fe3-b3a9-468e-aa5e-0b049cf67566"
    }
   },
   "source": [
    "The weak form\n",
    "------------------------\n",
    "\n",
    "To illustrate, take your equation and multiply it by a new function v called a test function, giving you $v\\cdot u_{xx} = 0$. Then, integrate over the whole domain, giving you the equation $$\\int \\limits_0^1 v \\cdot u_{xx}  \\text{dx} = 0$$ \n",
    "\n",
    "In some sense this is 'easier' to satisfy than the original equation, because it is possible that $\\int \\limits_0^1 f  \\:\n",
    "\\text{dx} = 0$ even though $f \\neq 0$ at every point.However, it is possible to show that, roughly speaking, if the integral equation is true for _every_ function $v$, then the original equation must be true as well, so requiring the latter equation to hold for _all_ v gives us something equivalent to the original equation. (For an idea of why this is true, think about what happens when v is a very narrow 'bump' function which is approximately 1 near some point, \n",
    "and rapidly decays to 0 outside that point.)"
   ]
  },
  {
   "cell_type": "markdown",
   "metadata": {
    "nbpresent": {
     "id": "e1044934-9005-4c68-a7d3-7e63dd919502"
    }
   },
   "source": [
    "Now, this equation still involves second derivatives of u. However, using integration by parts, we can \"move\" some derivatives to v as well. Because $$(v \\cdot u_x)_x = v_x \\cdot u_x + v \\cdot u_{xx}$$\n",
    "we get the equation $$0 = \\int\\limits_0^1 v \\cdot u_{xx} \\: \\text{dx}= \\int\\limits_0^1 (v \\cdot u_x)_x \\: \\text{dx} - \\int\\limits_0^1 v_x \\cdot u_x \\: \\text{dx} = v(1)u_x(1) - v(0) u_x(0) - \\int\\limits_0^1 v_x \\cdot u_x \\: \\text{dx}$$\n",
    "\n",
    "And this is an equation with only first derivatives!\n",
    "While the derivative has a jump discontinuity at the nodes, this is not a problem because the value of a function at a single point doesn't affect its integral. So to summarize, we have shown that our original equation $u_{xx} = 0$ is in some sense equivalent to finding a $u$ which satisfies $$v(1)u_x(1) - v(0) u_x(0) - \\int\\limits_0^1 v_x \\cdot u_x \\: \\text{dx}= 0$$ for all functions $v$. \n",
    "We call the original equation the _strong form_, and the new equation the _weak form_. "
   ]
  },
  {
   "cell_type": "markdown",
   "metadata": {
    "nbpresent": {
     "id": "d27b3b8f-8b91-4182-a123-382a70dbf05e"
    }
   },
   "source": [
    "Building a system of linear equations from the weak form\n",
    "----------------------------------------------------------------\n",
    "Now we can carry through our original plan of setting $u = \\sum_i u_i \\phi_i$ and building a system of equations to solve for the real numbers u_i. First, note that it is very easy to find $u_0$ and $u_5$. Because each $\\phi_i$ is 1 at the mesh point $x_i$ and $0$ otherwise, setting $x=0$ in $u(x) = \\sum_i u_i \\phi_i(x)$ yields that\n",
    "$1 = u(0) = u_0$, and setting $x=1$ similarly yields that $0 = \\phi_5 = u_5$. So we need 4 more equations to find $u_2, u_3, u_4, u_5$.\n",
    "\n",
    "Putting $v = \\phi_j$ for $j = 2, 3, 4 or 5$, we see that $v(0) = v(1) = 0$, so our equation becomes $$- \\int\\limits_0^1(\\phi_j)_x \\cdot \\sum_i u_i (\\phi_i)_x = 0$$ or equivalently $$\\sum_i u_i \\int\\limits_0^1 (\\phi_i)_x \\cdot (\\phi_j)_x = 0$$\n",
    "\n",
    "Because $\\phi_i$, $\\phi_j$ are known functions, we see that if we first compute the quantities $\\int\\limits_0^1((\\phi_i)_x \\cdot (\\phi_j)_x = 0$ for all pairs $i,j$, this will be a nice system of linear equations\n",
    "in good old real numbers which we can solve. \n",
    "\n",
    "We also see that $(\\phi_i)_x \\cdot (\\phi_j)_x$ is fairly easy to compute  - recalling what $\\phi_i$ looks like, we see that $(\\phi_i)_x$ is $+\\frac 1 h$ between $x_{i-1}$ and $x_i$, $-\\frac 1 h$ between $x_i$ and $x_{i+1}$, and $0$ otherwise.\n",
    "So $\\int\\limits_0^1 (\\phi_i)_x \\cdot (\\phi_j)_x \\: \\text{dx}$ is:\n",
    "\n",
    "* $\\frac 2 h$ when $i=j$ \n",
    "* $-\\frac 1 h$ when $i = j \\pm 1$ \n",
    "* $0$ when $i, j$ are more than 1 apart. \n",
    "\n",
    "If this is unclear, scroll up a few cells to take a look at the graphs of $(\\phi_i)_x$."
   ]
  },
  {
   "cell_type": "markdown",
   "metadata": {
    "nbpresent": {
     "id": "199735dd-1bdf-43e4-b1e8-c898e089f3f7"
    }
   },
   "source": [
    "\n",
    "To illustrate, the equation we get from putting $v=\\phi_2$, then, looks like \n",
    "$$-\\frac 1 h \\cdot u_1 + \\frac 2 h \\cdot u_2 -\\frac 1 h \\cdot u_3 = 0$$ Putting $v=\\phi_3$ we get $$-\\frac 1 h \\cdot u_2 + \\frac 2 h \\cdot u_3 - \\frac 1 h \\cdot u_4 = 0$$ and so on. \n",
    "\n",
    "Notice that this system is *sparse* in the sense that the equation you get for $v=\\phi_i$ only has 3 unknowns: $u_{i-1}, u_i$ and $u_{i+1}$, and that this would be true even if $N$ was a much larger number than 6. This sparsity comes from the fact that the $\\phi_i$ are very 'local' functions. Though we will not go into details here, this locality is really what makes the finite element method so useful, as a sparse system of equations is a lot easier to solve numerically than a dense one. Writing our system in matrix form, we get:"
   ]
  },
  {
   "cell_type": "markdown",
   "metadata": {
    "nbpresent": {
     "id": "abbcfafe-6761-4a1e-bdab-c0d6450289c0"
    }
   },
   "source": [
    "\n",
    " $$\\begin{bmatrix}\n",
    "    1 & 0 & 0 & 0 & 0 & 0 \\\\\n",
    "    -\\frac 1 h & \\frac 2h & - \\frac 1h & 0 & 0 & 0\\\\\n",
    "    0 & -\\frac 1 h & \\frac 2h & - \\frac 1h & 0 & 0 \\\\\n",
    "    0 & 0 & -\\frac 1 h & \\frac 2h & - \\frac 1h & 0 \\\\\n",
    "    0 & 0 & 0 & -\\frac 1 h & \\frac 2h & - \\frac 1h \\\\\n",
    "    0 & 0 & 0 & 0 & 0 & 1\n",
    "\\end{bmatrix}\\begin{bmatrix}\n",
    "    u_0 \\\\[2.2pt]\n",
    "    u_1 \\\\[2.2pt]\n",
    "    u_2 \\\\[2.2pt]\n",
    "    u_3 \\\\[2.2pt]\n",
    "    u_4 \\\\[2.2pt]\n",
    "    u_5\n",
    "\\end{bmatrix} = \\begin{bmatrix}\n",
    "    1 \\\\[2.2pt]\n",
    "    0 \\\\[2.2pt]\n",
    "    0 \\\\[2.2pt]\n",
    "    0 \\\\[2.2pt]\n",
    "    0 \\\\[2.2pt]\n",
    "    0\n",
    "\\end{bmatrix}$$"
   ]
  },
  {
   "cell_type": "markdown",
   "metadata": {
    "nbpresent": {
     "id": "313bf39e-0c36-41f2-a095-35dc561dc646"
    }
   },
   "source": [
    "Feel free to multiply out the above to see that we in fact get the equations we wrote down previously. Note also that the first and last rows are special, corresponding to us having boundary conditions at the corresponding nodes $x_0=0$ and $x_5=1$.\n",
    "\n",
    "\n",
    "Solving the system of linear equations\n",
    "-------------------------------------------\n",
    "In any case, this can now be packaged up and handed over to whichever linear algebra software you prefer.\n",
    "Then, once the $u_i$ have been found, our approximation of the solution u is then the function $\\sum_i u_i \\phi_i(x)$. Below, we do this in numpy:\n"
   ]
  },
  {
   "cell_type": "code",
   "execution_count": 4,
   "metadata": {
    "collapsed": false,
    "nbpresent": {
     "id": "1d5d8b9b-fb4e-4eeb-809d-226ef7151708"
    }
   },
   "outputs": [
    {
     "ename": "NameError",
     "evalue": "name 'h' is not defined",
     "output_type": "error",
     "traceback": [
      "\u001b[0;31m---------------------------------------------------------------------------\u001b[0m",
      "\u001b[0;31mNameError\u001b[0m                                 Traceback (most recent call last)",
      "\u001b[0;32m<ipython-input-4-700364ce4e32>\u001b[0m in \u001b[0;36m<module>\u001b[0;34m()\u001b[0m\n\u001b[0;32m----> 1\u001b[0;31m \u001b[0mH\u001b[0m \u001b[0;34m=\u001b[0m \u001b[0;36m1\u001b[0m\u001b[0;34m/\u001b[0m\u001b[0mh\u001b[0m\u001b[0;34m\u001b[0m\u001b[0m\n\u001b[0m\u001b[1;32m      2\u001b[0m A = np.array(([\n\u001b[1;32m      3\u001b[0m     \u001b[0;34m[\u001b[0m\u001b[0;36m1\u001b[0m\u001b[0;34m,\u001b[0m \u001b[0;36m0\u001b[0m\u001b[0;34m,\u001b[0m \u001b[0;36m0\u001b[0m\u001b[0;34m,\u001b[0m \u001b[0;36m0\u001b[0m\u001b[0;34m,\u001b[0m \u001b[0;36m0\u001b[0m\u001b[0;34m,\u001b[0m \u001b[0;36m0\u001b[0m\u001b[0;34m]\u001b[0m\u001b[0;34m,\u001b[0m\u001b[0;34m\u001b[0m\u001b[0m\n\u001b[1;32m      4\u001b[0m     \u001b[0;34m[\u001b[0m\u001b[0;34m-\u001b[0m\u001b[0mH\u001b[0m\u001b[0;34m,\u001b[0m \u001b[0;36m2\u001b[0m\u001b[0;34m*\u001b[0m\u001b[0mH\u001b[0m\u001b[0;34m,\u001b[0m \u001b[0;34m-\u001b[0m\u001b[0mH\u001b[0m\u001b[0;34m,\u001b[0m \u001b[0;36m0\u001b[0m\u001b[0;34m,\u001b[0m \u001b[0;36m0\u001b[0m\u001b[0;34m,\u001b[0m \u001b[0;36m0\u001b[0m\u001b[0;34m]\u001b[0m\u001b[0;34m,\u001b[0m\u001b[0;34m\u001b[0m\u001b[0m\n\u001b[1;32m      5\u001b[0m     \u001b[0;34m[\u001b[0m\u001b[0;36m0\u001b[0m\u001b[0;34m,\u001b[0m \u001b[0;34m-\u001b[0m\u001b[0mH\u001b[0m\u001b[0;34m,\u001b[0m \u001b[0;36m2\u001b[0m\u001b[0;34m*\u001b[0m\u001b[0mH\u001b[0m\u001b[0;34m,\u001b[0m \u001b[0;34m-\u001b[0m\u001b[0mH\u001b[0m\u001b[0;34m,\u001b[0m \u001b[0;36m0\u001b[0m\u001b[0;34m,\u001b[0m \u001b[0;36m0\u001b[0m\u001b[0;34m]\u001b[0m\u001b[0;34m,\u001b[0m\u001b[0;34m\u001b[0m\u001b[0m\n",
      "\u001b[0;31mNameError\u001b[0m: name 'h' is not defined"
     ]
    }
   ],
   "source": [
    "H = 1/h\n",
    "A = np.array(([\n",
    "    [1, 0, 0, 0, 0, 0],\n",
    "    [-H, 2*H, -H, 0, 0, 0],\n",
    "    [0, -H, 2*H, -H, 0, 0],\n",
    "    [0, 0, -H, 2*H, -H, 0],\n",
    "    [0, 0, 0, -H, 2*H, -H],\n",
    "    [0, 0, 0, 0, 0, 1],\n",
    "    \n",
    "]))\n",
    "b = np.array([1, 0, 0, 0, 0, 0])\n",
    "\n",
    "u = np.linalg.solve(A, b)\n",
    "print u"
   ]
  },
  {
   "cell_type": "markdown",
   "metadata": {
    "nbpresent": {
     "id": "30be96f2-d040-4766-a9bb-31d7dc192e63"
    }
   },
   "source": [
    "So the solution is $$u = \\begin{bmatrix}\n",
    "    1 \\\\\n",
    "    0.8 \\\\\n",
    "    0.6 \\\\\n",
    "    0.4 \\\\\n",
    "    0.2 \\\\\n",
    "    0\n",
    "\\end{bmatrix}$$\n",
    "\n",
    "To see what this looks like as a function of $x$, we recall that $u_i$ were defined so that $u(x) = \\sum_i u_i \\phi_i(x)$. Substituting in our solution $u_i$, we see that $u$ looks like the below:\n",
    "\n"
   ]
  },
  {
   "cell_type": "code",
   "execution_count": null,
   "metadata": {
    "collapsed": false,
    "nbpresent": {
     "id": "1dd8f75c-3eb5-4c39-b5ce-c2aefb400ee0"
    }
   },
   "outputs": [],
   "source": [
    "U = np.zeros((N))\n",
    "for i in range(N):\n",
    "    U += u[i]*phi(i)\n",
    "    \n",
    "plt.plot(x, [0]*N, \"ro\", label=\"mesh points\")\n",
    "plt.plot(x, U, \"b-\", label=\"numerical solution\")\n",
    "plt.xlim(0, 1)\n",
    "plt.ylim(0, 1)\n",
    "plt.legend();"
   ]
  },
  {
   "cell_type": "markdown",
   "metadata": {
    "nbpresent": {
     "id": "94b0b0f5-11d2-48e7-8df5-3534b7c323f6"
    }
   },
   "source": [
    "We see that in this case we get a very nice and linear solution $u(x) = 1-x$. Because $u_{xx}=0$ and the boundary conditions are satisfied, this is actually the real solution of the equation."
   ]
  },
  {
   "cell_type": "markdown",
   "metadata": {
    "nbpresent": {
     "id": "df381c26-872a-473e-973c-e3a3496d3e02"
    }
   },
   "source": [
    "Summary\n",
    "--------\n",
    "To recap the method used:\n",
    "\n",
    "1. Take the original equation, multiply it by a test function v and integrate by parts to get rid of all second derivatives\n",
    "2. Choose some basis functions $\\phi_i$, write $u=\\sum_i u_i \\phi_i$ and put $v = \\phi_0, \\phi_1, \\phi_2$ successively to get a bunch of equations\n",
    "3. Express the resulting equations in terms of known stuff with $\\phi_i$, build a linear system of equations and solve it for the unknowns $u_i$\n",
    "4. The solution $u(x)$ is then approximated as $\\sum_i u_i \\phi_i(x)$\n",
    "\n",
    "This is the finite element method. It can also be used to solve more complicated PDEs, handle different basis functions $\\phi_i$, work with more complicated domains $\\Omega$ and more, without significant deviations from the above list. In future lectures, we will give examples of the method applied to more exciting equations and demonstrate how to use *FEniCS*, a software suite.\n"
   ]
  },
  {
   "cell_type": "markdown",
   "metadata": {
    "nbpresent": {
     "id": "75a95f1c-a9c9-4985-9780-47949393c5a9"
    }
   },
   "source": [
    "Homework\n",
    "---------------------\n",
    "\n",
    "Repeat the procedure outlined here for the equation $-u_{xx} + u = 0$."
   ]
  },
  {
   "cell_type": "markdown",
   "metadata": {
    "nbpresent": {
     "id": "02ee586e-556b-4fed-bceb-ed61d4b77b79"
    }
   },
   "source": [
    " # Brief summaries (intended for presentation view only)"
   ]
  },
  {
   "cell_type": "markdown",
   "metadata": {
    "nbpresent": {
     "id": "3aa67c73-0af3-4a03-abcb-87fa97016801"
    }
   },
   "source": [
    "<br /> <br /> <br /> <br /> <br /> <br />  <br /> <br /> <br /> <br /> <br />  \n",
    "<div style=\"text-align: center\"> <font size=\"6\"> <strong> Introduction to the Finite Element Method </strong> </font></div> "
   ]
  },
  {
   "cell_type": "markdown",
   "metadata": {
    "nbpresent": {
     "id": "7e46bc67-f901-4529-9395-bb70d82a9a92"
    }
   },
   "source": [
    "The Poisson equation\n",
    "-----------------------\n",
    "* Model of heat conduction:  $$-\\frac{\\partial^2u} {\\partial x^2} = 0$$\n",
    "* Domain: 1D rod identified with the interval $[0, 1]$, $u(x) = $ temperature at point $x$\n",
    "* Boundary conditions: rod held at fixed temperatures $u(0)=1$, $u(1) = 0$ at ends\n",
    "* Notation: $u_x = $ derivative, $u_{xx}=$ second derivative"
   ]
  },
  {
   "cell_type": "markdown",
   "metadata": {
    "nbpresent": {
     "id": "c931d162-f06f-4512-b8ea-7cd3cf4665e4"
    },
    "slideshow": {
     "slide_type": "slide"
    }
   },
   "source": [
    "Discretization\n",
    "----------------\n",
    "* Choose $N=6$ points uniformly in $[0, 1]$ to get a mesh with nodes $x_0, \\: \\ldots, \\: x_5$\n",
    "* $V_h = $ space of piecewise linear functions with break points at mesh points \n",
    "* $h = \\frac 1 5$ length of subinterval\n",
    "* Idea: maybe the solution $u$ isn't actually in $V_h$, but find best approximation there\n",
    "* Define basis functions $\\phi_i$ which are \"hats\" centered at $x_i$"
   ]
  },
  {
   "cell_type": "markdown",
   "metadata": {
    "nbpresent": {
     "id": "88ea8fb5-aad1-4ab3-b038-6f62d1caa5b2"
    }
   },
   "source": [
    "Why we need the weak form\n",
    "-----------------------------\n",
    "* **Strategy:** Write $u=u_0 \\phi_0 + \\ldots + u_5 \\phi_5$, insert into $u_{xx}=0$ and solve for coefficients $u_i$ \n",
    "* **Problem:** Second derivatives of $\\phi_i$ are weird\n",
    "* **Solution:** Replace $u_{xx}=0$ by 'equivalent' equation *without* second derivatives (weak form)"
   ]
  },
  {
   "cell_type": "markdown",
   "metadata": {
    "nbpresent": {
     "id": "d2688888-890f-4a8a-923e-b2fe45de9652"
    }
   },
   "source": [
    "Finding the weak form\n",
    "------------------------\n",
    "* Multiply by arbitrary function (test function) $v$ and integrate over $\\Omega$: $$\\int \\limits_0^1 v \\cdot u_{xx}  \\text{dx} \\:=\\: 0$$ \n",
    "* Integrate by parts: $$(v \\cdot u_x)_x = v_x \\cdot u_x + v \\cdot u_{xx}$$\n",
    "\n",
    "* Rewrite integral: \n",
    " $$\\int\\limits_0^1 v \\cdot u_{xx} \\: \\text{dx} \\:=\\: v(1)u_x(1) \\:-\\: v(0) u_x(0) \\:-\\: \\int\\limits_0^1 v_x \\cdot u_x \\: \\text{dx} $$\n",
    " \n",
    "* Conclusion:\n",
    "  $$u_{xx} = 0 \\hspace{4mm} \"\\Longleftrightarrow\" \\hspace{4mm}  v(1)u_x(1) \\:-\\: v(0) u_x(0) \\:-\\: \\int\\limits_0^1 v_x \\cdot u_x \\: \\text{dx} = 0 \\hspace{5mm} \\text{ for all } v$$"
   ]
  },
  {
   "cell_type": "markdown",
   "metadata": {
    "nbpresent": {
     "id": "1302f453-a401-4bbc-b588-5d2219ff83bc"
    }
   },
   "source": [
    "Building a system of linear equations from the weak form\n",
    "----------------------------------------------------------------\n",
    "* Put $u(x) = \\sum_i u_i \\phi_i(x)$ into weak form $v(1)u_x(1) - v(0) u_x(0) - \\int\\limits_0^1 v_x \\cdot u_x \\: \n",
    "\\text{dx}= 0$ to get equation with unknowns $u_i$ (numbers) instead of $u$ (function)\n",
    "* Boundary conditions: $u(0) = 1 = u_0$, and $u(1) = 0 = u_5$\n",
    "* Put $v = \\phi_j$ into weak form to get $$- \\int\\limits_0^1(\\phi_j)_x \\cdot \\sum_i u_i (\\phi_i)_x = 0$$\n",
    "* Because $\\int \\sum = \\sum \\int$, rewrite as $$\\sum_i u_i \\int\\limits_0^1 (\\phi_i)_x \\cdot (\\phi_j)_x = 0$$\n",
    "* Compute $\\int\\limits_0^1 (\\phi_i)_x \\cdot (\\phi_j)_x$ to get $\\frac 2h, -\\frac 1 h$ or $0$ depending on $i-j$\n",
    "* Put appropriate values of $\\int\\limits_0^1 (\\phi_i)_x \\cdot (\\phi_j)_x$ into equation to get linear system of equations for $u_j$: $$-\\frac 1 h \\cdot u_{j-1} + \\frac 2 h \\cdot u_j -\\frac 1 h \\cdot u_{j+1} = 0$$"
   ]
  },
  {
   "cell_type": "markdown",
   "metadata": {
    "nbpresent": {
     "id": "269f5183-5f3e-4981-b5c7-f3c43edcfcc5"
    }
   },
   "source": [
    " Solving the system of linear equations\n",
    " -------------------------------------------\n",
    " $Au=b$, where\n",
    " \n",
    " $$A = \\begin{bmatrix}\n",
    "    1 & 0 & 0 & 0 & 0 & 0 \\\\\n",
    "    -\\frac 1 h & \\frac 2h & - \\frac 1h & 0 & 0 & 0\\\\\n",
    "    0 & -\\frac 1 h & \\frac 2h & - \\frac 1h & 0 & 0 \\\\\n",
    "    0 & 0 & -\\frac 1 h & \\frac 2h & - \\frac 1h & 0 \\\\\n",
    "    0 & 0 & 0 & -\\frac 1 h & \\frac 2h & - \\frac 1h \\\\\n",
    "    0 & 0 & 0 & 0 & 0 & 1\n",
    "\\end{bmatrix}, \\: u = \\begin{bmatrix}\n",
    "    u_0 \\\\[2.2pt]\n",
    "    u_1 \\\\[2.2pt]\n",
    "    u_2 \\\\[2.2pt]\n",
    "    u_3 \\\\[2.2pt]\n",
    "    u_4 \\\\[2.2pt]\n",
    "    u_5\n",
    "\\end{bmatrix}, \\: b = \\begin{bmatrix}\n",
    "    1 \\\\[2.2pt]\n",
    "    0 \\\\[2.2pt]\n",
    "    0 \\\\[2.2pt]\n",
    "    0 \\\\[2.2pt]\n",
    "    0 \\\\[2.2pt]\n",
    "    0\n",
    "\\end{bmatrix}$$\n"
   ]
  },
  {
   "cell_type": "markdown",
   "metadata": {
    "nbpresent": {
     "id": "dc954282-8bd1-45a3-91c3-c8d1dc8b5c31"
    }
   },
   "source": [
    "Solution: $$u = \\begin{bmatrix}\n",
    "    1 \\\\\n",
    "    0.8 \\\\\n",
    "    0.6 \\\\\n",
    "    0.4 \\\\\n",
    "    0.2 \\\\\n",
    "    0\n",
    "\\end{bmatrix}$$\n",
    "So the solution of our original equation is $$u \\: = \\: 1 \\cdot \\phi_0 \\: + \\: 0.8 \\cdot \\phi_1 \\: + \\: 0.6 \\cdot \\phi_2 \\: + \\: 0.4 \\cdot \\phi_3 \\: + \\: 0.2 \\cdot \\phi_4 \\: + \\: 0 \\cdot \\phi_5$$ which actually works out to \n",
    "\n",
    "$$u(x) = 1 - x$$"
   ]
  }
 ],
 "metadata": {
  "anaconda-cloud": {
   "summary": "Introduction to the Finite Element Method",
   "thumbnail": "data:image/png;base64,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"
  },
  "kernelspec": {
   "display_name": "Python 2",
   "language": "python",
   "name": "python2"
  },
  "language_info": {
   "codemirror_mode": {
    "name": "ipython",
    "version": 2
   },
   "file_extension": ".py",
   "mimetype": "text/x-python",
   "name": "python",
   "nbconvert_exporter": "python",
   "pygments_lexer": "ipython2",
   "version": "2.7.13"
  },
  "nbpresent": {
   "slides": {
    "621a9dfe-8507-40e5-82d9-32cbc1d16e45": {
     "id": "621a9dfe-8507-40e5-82d9-32cbc1d16e45",
     "layout": "manual",
     "prev": "6e13ae3e-3577-44a3-b091-9ca3358f927c",
     "regions": {
      "67ae43e0-453b-4c5e-b95c-78b331e6a5ae": {
       "attrs": {
        "height": 0.4508169896588813,
        "pad": 0.01,
        "width": 0.41666666666666674,
        "x": 0.5,
        "y": 0.5
       },
       "content": {
        "cell": "d35fc47d-13e0-4c6b-ad59-dcd223f9400b",
        "part": "outputs"
       },
       "height": 0.4,
       "id": "67ae43e0-453b-4c5e-b95c-78b331e6a5ae",
       "width": 0.4,
       "x": 0.5,
       "y": 0.5
      },
      "83b4ff75-8a7d-4c0b-b526-ad4798b71f6c": {
       "attrs": {
        "height": 0.8178166240073176,
        "pad": 0.01,
        "width": 0.4503323842222188,
        "x": 0.04966761577778126,
        "y": 0.0988500426593491
       },
       "content": {
        "cell": "c931d162-f06f-4512-b8ea-7cd3cf4665e4",
        "part": "source"
       },
       "id": "83b4ff75-8a7d-4c0b-b526-ad4798b71f6c"
      },
      "b6656639-a21a-4afb-9edc-5dba11cf07f3": {
       "attrs": {
        "height": 0.4499167580795576,
        "pad": 0.01,
        "width": 0.41666666666666674,
        "x": 0.5,
        "y": 0.08333333333333333
       },
       "content": {
        "cell": "9149330c-731d-421d-933d-b6c0b2042bc1",
        "part": "outputs"
       },
       "height": 0.4,
       "id": "b6656639-a21a-4afb-9edc-5dba11cf07f3",
       "width": 0.4
      }
     }
    },
    "63860a5e-4c1e-4547-9209-6337e5f5d67a": {
     "id": "63860a5e-4c1e-4547-9209-6337e5f5d67a",
     "prev": "621a9dfe-8507-40e5-82d9-32cbc1d16e45",
     "regions": {
      "4d5a5843-e32c-4ccd-9249-c2f8b45d3f04": {
       "attrs": {
        "height": 0.43646570104280125,
        "width": 0.4076061334485641,
        "x": 0.542393866551436,
        "y": 0.10000000000000002
       },
       "content": {
        "cell": "50e09840-7704-4938-aab0-89422107c8af",
        "part": "outputs"
       },
       "id": "4d5a5843-e32c-4ccd-9249-c2f8b45d3f04"
      },
      "8ab26c03-b0c5-454e-a439-bfea270fed30": {
       "attrs": {
        "height": 0.39213220354593564,
        "width": 0.4072333046981534,
        "x": 0.5426418324211831,
        "y": 0.5078677964540644
       },
       "content": {
        "cell": "9b52f26c-070c-47da-b30f-bcda378cf006",
        "part": "outputs"
       },
       "id": "8ab26c03-b0c5-454e-a439-bfea270fed30"
      },
      "fab054a4-8d40-4106-9a70-9012cf025ff2": {
       "attrs": {
        "height": 0.8000000000000002,
        "width": 0.49364074497941934,
        "x": 0.05,
        "y": 0.10000000000000002
       },
       "content": {
        "cell": "88ea8fb5-aad1-4ab3-b038-6f62d1caa5b2",
        "part": "source"
       },
       "id": "fab054a4-8d40-4106-9a70-9012cf025ff2"
      }
     }
    },
    "66b054da-2006-4971-ac72-452775f33c65": {
     "id": "66b054da-2006-4971-ac72-452775f33c65",
     "prev": "63860a5e-4c1e-4547-9209-6337e5f5d67a",
     "regions": {
      "0be9f8c6-6c19-4f3b-b2bd-0c97bbf4e3c7": {
       "attrs": {
        "height": 0.8000000000000002,
        "width": 0.8976293556460443,
        "x": 0.05,
        "y": 0.10000000000000002
       },
       "content": {
        "cell": "d2688888-890f-4a8a-923e-b2fe45de9652",
        "part": "source"
       },
       "id": "0be9f8c6-6c19-4f3b-b2bd-0c97bbf4e3c7",
       "width": 0.9
      }
     }
    },
    "6ac29df0-a1ea-4b77-95ac-85a59c4f60f9": {
     "id": "6ac29df0-a1ea-4b77-95ac-85a59c4f60f9",
     "prev": "66b054da-2006-4971-ac72-452775f33c65",
     "regions": {
      "bf72f8a7-27a5-4c7c-9a1d-4055a6518829": {
       "attrs": {
        "height": 0.8000000000000002,
        "width": 0.8976293556460443,
        "x": 0.05,
        "y": 0.10000000000000002
       },
       "content": {
        "cell": "1302f453-a401-4bbc-b588-5d2219ff83bc",
        "part": "source"
       },
       "id": "bf72f8a7-27a5-4c7c-9a1d-4055a6518829",
       "width": 0.9
      }
     }
    },
    "6e13ae3e-3577-44a3-b091-9ca3358f927c": {
     "id": "6e13ae3e-3577-44a3-b091-9ca3358f927c",
     "prev": "76f9ab86-8cbc-4165-be51-9189a8ccd722",
     "regions": {
      "5d779e79-f09d-4c68-a416-e5069e37f6fb": {
       "attrs": {
        "height": 0.8,
        "width": 0.45,
        "x": 0.5,
        "y": 0.1
       },
       "content": {
        "cell": "856c3340-ca18-4367-b881-4143751dba38",
        "part": "source"
       },
       "id": "5d779e79-f09d-4c68-a416-e5069e37f6fb"
      },
      "b9ae7135-8426-4ddd-9f85-d3ad64763373": {
       "attrs": {
        "height": 0.8,
        "width": 0.45,
        "x": 0.05,
        "y": 0.1
       },
       "content": {
        "cell": "7e46bc67-f901-4529-9395-bb70d82a9a92",
        "part": "source"
       },
       "id": "b9ae7135-8426-4ddd-9f85-d3ad64763373"
      }
     }
    },
    "76f9ab86-8cbc-4165-be51-9189a8ccd722": {
     "id": "76f9ab86-8cbc-4165-be51-9189a8ccd722",
     "prev": null,
     "regions": {
      "a677072f-53cb-48e0-a2e2-739d20a38d34": {
       "attrs": {
        "height": 1,
        "width": 1,
        "x": 0,
        "y": 0
       },
       "content": {
        "cell": "3aa67c73-0af3-4a03-abcb-87fa97016801",
        "part": "source"
       },
       "id": "a677072f-53cb-48e0-a2e2-739d20a38d34"
      }
     }
    },
    "7950c95a-af25-4435-8eb1-905d19e19a56": {
     "id": "7950c95a-af25-4435-8eb1-905d19e19a56",
     "layout": "manual",
     "prev": "6ac29df0-a1ea-4b77-95ac-85a59c4f60f9",
     "regions": {
      "1d019a38-bc90-4874-8734-b6dfe4177765": {
       "attrs": {
        "height": 0.4499167580795576,
        "pad": 0.01,
        "width": 0.41666666666666674,
        "x": 0.5,
        "y": 0.08333333333333333
       },
       "content": {
        "cell": "dc954282-8bd1-45a3-91c3-c8d1dc8b5c31",
        "part": "source"
       },
       "height": 0.4,
       "id": "1d019a38-bc90-4874-8734-b6dfe4177765",
       "width": 0.4
      },
      "74943851-21ce-4bf8-b87a-e0ca4e21010b": {
       "attrs": {
        "height": 0.8178166240073176,
        "pad": 0.01,
        "width": 0.4503323842222188,
        "x": 0.04966761577778126,
        "y": 0.0988500426593491
       },
       "content": {
        "cell": "269f5183-5f3e-4981-b5c7-f3c43edcfcc5",
        "part": "source"
       },
       "id": "74943851-21ce-4bf8-b87a-e0ca4e21010b"
      },
      "92f29f67-e6ba-4d74-aeaf-df3fe60a63f2": {
       "attrs": {
        "height": 0.40648354289762884,
        "pad": 0.01,
        "width": 0.41666666666666674,
        "x": 0.5,
        "y": 0.5443334467612525
       },
       "content": {
        "cell": "1dd8f75c-3eb5-4c39-b5ce-c2aefb400ee0",
        "part": "outputs"
       },
       "height": 0.4,
       "id": "92f29f67-e6ba-4d74-aeaf-df3fe60a63f2",
       "width": 0.4,
       "x": 0.5,
       "y": 0.5
      }
     }
    }
   },
   "themes": {}
  }
 },
 "nbformat": 4,
 "nbformat_minor": 2
}
